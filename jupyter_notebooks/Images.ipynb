{
 "cells": [
  {
   "cell_type": "markdown",
   "metadata": {},
   "source": [
    "## Images Study"
   ]
  },
  {
   "cell_type": "markdown",
   "metadata": {},
   "source": [
    "### Objectives\n",
    "* Answere business requirements:\n",
    "\n",
    "    - The Client wants to be able to visually differentiate between cherry leaves with and without powdery mildew."
   ]
  },
  {
   "cell_type": "markdown",
   "metadata": {},
   "source": [
    "## Inputs\n",
    "* Train, validation and test datasets."
   ]
  },
  {
   "cell_type": "markdown",
   "metadata": {},
   "source": [
    "## Outputs\n",
    "* The code to generate an images montage.\n",
    "* Mean and varibility of images for each label.\n",
    "* Plot with contrast between mean images.\n",
    "* Pixel values variability analys for whole images.\n",
    "    - RGB variability within each image per label\n",
    "* Pixel values variability analysis for centers of images.\n",
    "    - RGB variability within each image per label"
   ]
  },
  {
   "cell_type": "markdown",
   "metadata": {},
   "source": [
    "---"
   ]
  },
  {
   "cell_type": "markdown",
   "metadata": {},
   "source": [
    "## Install libraries."
   ]
  },
  {
   "cell_type": "code",
   "execution_count": null,
   "metadata": {},
   "outputs": [],
   "source": [
    "%pip install -r /workspace/MILDEWLEAVESPP5/requirements.txt"
   ]
  },
  {
   "cell_type": "markdown",
   "metadata": {},
   "source": [
    "---"
   ]
  },
  {
   "cell_type": "markdown",
   "metadata": {},
   "source": [
    "### Change working directory\n",
    "Change working directory to project root directory."
   ]
  },
  {
   "cell_type": "code",
   "execution_count": null,
   "metadata": {},
   "outputs": [],
   "source": [
    "import os\n",
    "current_dir = os.getcwd()\n",
    "current_dir"
   ]
  },
  {
   "cell_type": "code",
   "execution_count": null,
   "metadata": {},
   "outputs": [],
   "source": [
    "os.chdir(os.path.dirname(current_dir))\n",
    "\n",
    "\n",
    "current_dir = os.getcwd()\n",
    "current_dir"
   ]
  },
  {
   "cell_type": "markdown",
   "metadata": {},
   "source": [
    "___"
   ]
  },
  {
   "cell_type": "markdown",
   "metadata": {},
   "source": [
    "## Set up directories and variables."
   ]
  },
  {
   "cell_type": "markdown",
   "metadata": {},
   "source": [
    "### Store file paths.\n",
    "\n",
    "input directories."
   ]
  },
  {
   "cell_type": "code",
   "execution_count": null,
   "metadata": {},
   "outputs": [],
   "source": [
    "data_dir = \"inputs/datasets/cherry-leaves\"\n",
    "\n",
    "train_dir = data_dir + \"/train\"\n",
    "val_dir = data_dir + \"/val\"\n",
    "test_dir = data_dir + \"/test\""
   ]
  },
  {
   "cell_type": "markdown",
   "metadata": {},
   "source": [
    "### Create outputs directory."
   ]
  },
  {
   "cell_type": "code",
   "execution_count": null,
   "metadata": {},
   "outputs": [],
   "source": [
    "# Set version here\n",
    "version = \"v1\"\n",
    "\n",
    "file_path = f\"outputs/{version}\"\n",
    "\n",
    "if \"outputs\" in os.listdir(current_dir) and version in os.listdir(current_dir + \"/outputs\"):\n",
    "    print(\"This version tag has already been used. Create a new version.\")\n",
    "    pass\n",
    "else:\n",
    "    os.makedirs(name=file_path)"
   ]
  },
  {
   "cell_type": "markdown",
   "metadata": {},
   "source": [
    "#### Store label names."
   ]
  },
  {
   "cell_type": "code",
   "execution_count": null,
   "metadata": {},
   "outputs": [],
   "source": [
    "labels = os.listdir(train_dir)\n",
    "print(\"The images labels are:\", labels)"
   ]
  },
  {
   "cell_type": "markdown",
   "metadata": {},
   "source": [
    "---"
   ]
  },
  {
   "cell_type": "markdown",
   "metadata": {},
   "source": [
    "### Import libraries."
   ]
  },
  {
   "cell_type": "code",
   "execution_count": null,
   "metadata": {},
   "outputs": [],
   "source": [
    "import itertools\n",
    "import random\n",
    "import joblib\n",
    "import numpy as np\n",
    "import pandas as pd\n",
    "import matplotlib.pyplot as plt\n",
    "from matplotlib.image import imread\n",
    "import seaborn as sns\n",
    "\n",
    "sns.set_style(\"white\")"
   ]
  },
  {
   "cell_type": "markdown",
   "metadata": {},
   "source": [
    "---"
   ]
  },
  {
   "cell_type": "markdown",
   "metadata": {},
   "source": [
    "### Images setupts."
   ]
  },
  {
   "cell_type": "code",
   "execution_count": null,
   "metadata": {},
   "outputs": [],
   "source": [
    "# Function is taken from CI walktrough project\n",
    "def image_montage(dir_path, label_to_display, nrows, ncols, figsize=(15, 10)):\n",
    "    \"\"\"\n",
    "    if the label exists in the directory\n",
    "    check if your desired montage space is greater than the label subset size\n",
    "    create a list of axes indices based on nrows and ncols\n",
    "    create a Figure and display images\n",
    "    in this loop, load and plot the given image\n",
    "    \"\"\"\n",
    "\n",
    "    labels = os.listdir(dir_path)\n",
    "\n",
    "    # subset the class you are interested to display\n",
    "    if label_to_display in labels:\n",
    "\n",
    "        # checks if your desired montage space is greater than the label subset size\n",
    "        images_list = os.listdir(dir_path + \"/\" + label_to_display)\n",
    "        if nrows * ncols < len(images_list):\n",
    "            img_idx = random.sample(images_list, nrows * ncols)\n",
    "        else:\n",
    "            print(\n",
    "                f\"Decrease nrows or ncols to create your montage. \\n\"\n",
    "                f\"There are {len(images_list)} in your subset. \"\n",
    "                f\"You requested a montage with {nrows * ncols} spaces\"\n",
    "            )\n",
    "            return\n",
    "\n",
    "        # create a list of axes indices based on nrows and ncols\n",
    "        list_rows = range(0, nrows)\n",
    "        list_cols = range(0, ncols)\n",
    "        plot_idx = list(itertools.product(list_rows, list_cols))\n",
    "\n",
    "        # create a Figure and display images\n",
    "        fig, axes = plt.subplots(nrows=nrows, ncols=ncols, figsize=figsize)\n",
    "        for x in range(0, nrows * ncols):\n",
    "            img = imread(dir_path + \"/\" + label_to_display + \"/\" + img_idx[x])\n",
    "            img_shape = img.shape\n",
    "            axes[plot_idx[x][0], plot_idx[x][1]].imshow(img)\n",
    "            axes[plot_idx[x][0], plot_idx[x][1]].set_title(\n",
    "                f\"Width {img_shape[1]}px x Height {img_shape[0]}px\"\n",
    "            )\n",
    "            axes[plot_idx[x][0], plot_idx[x][1]].set_xticks([])\n",
    "            axes[plot_idx[x][0], plot_idx[x][1]].set_yticks([])\n",
    "        plt.tight_layout()\n",
    "        plt.show()\n",
    "\n",
    "    else:\n",
    "        print(\"The label you selected doesn't exist.\")\n",
    "        print(f\"The existing options are: {labels}\")"
   ]
  },
  {
   "cell_type": "markdown",
   "metadata": {},
   "source": [
    "Create a montages for each label."
   ]
  },
  {
   "cell_type": "code",
   "execution_count": null,
   "metadata": {},
   "outputs": [],
   "source": [
    "for label in labels:\n",
    "    print(label)\n",
    "    image_montage(\n",
    "        dir_path=train_dir, label_to_display=label, nrows=3, ncols=3, figsize=(10, 13)\n",
    "    )\n",
    "    print(\"\\n\")"
   ]
  },
  {
   "cell_type": "markdown",
   "metadata": {},
   "source": [
    "__Note:__ visually, it appears as if there are qualitative differences between the two classes beyond the precense or absence of powdery mildew.\n",
    "* After viewing a few random samples, all powdery mildew leaf images have the leaf pointing toward the top, whereas healthy leaves point either up or down.\n",
    "* It appears as if the backdrop of the two groups of images have a slightly different color and/or texture.\n",
    "\n",
    "This could lead to potentially limited model performance, if it picks up patterns that are not inherent to the presencse of the mildew. Investigate this further in the following mean and variability plots."
   ]
  },
  {
   "cell_type": "markdown",
   "metadata": {},
   "source": [
    "---"
   ]
  },
  {
   "cell_type": "markdown",
   "metadata": {},
   "source": [
    "### Load a subset of images\n",
    "\n",
    "Only a subset of images will be used for the images studies, to save time."
   ]
  },
  {
   "cell_type": "markdown",
   "metadata": {},
   "source": [
    "create a function to load imes as Numpy arrays."
   ]
  },
  {
   "cell_type": "code",
   "execution_count": null,
   "metadata": {},
   "outputs": [],
   "source": [
    "from tensorflow.keras.preprocessing import imag\n",
    "\n",
    "# Function is from CI Walktrough.\n",
    "def load_images_as_arrays(data_dir, n_images_per_label=20):\n",
    "    \"\"\"Load passed number of images for each label as np arrays and normalize the color values\"\"\"\n",
    "\n",
    "    X, y = np.array([], dtype=\"int\"), np.array([], dtype=\"object\")\n",
    "    labels = os.listdir(data_dir)\n",
    "\n",
    "    for label in labels:\n",
    "        counter = 0\n",
    "        for image_filename in os.listdir(data_dir + \"/\" + label):\n",
    "            if counter < n_images_per_label:\n",
    "\n",
    "                img = image.load_img(\n",
    "                    data_dir + \"/\" + label + \"/\" + image_filename,\n",
    "                )\n",
    "\n",
    "                # if pixel values use 0 to 255 scale, normalize to 0 to 1 scale\n",
    "                if image.img_to_array(img).max() > 1:\n",
    "                    img_processed = image.img_to_array(img) / 255\n",
    "                else:\n",
    "                    img_processed = image.img_to_array(img)\n",
    "\n",
    "                X = np.append(X, img_processed).reshape(\n",
    "                    -1, img_processed.shape[0], img_processed.shape[1], img_processed.shape[2]\n",
    "                )\n",
    "                y = np.append(y, label)\n",
    "                counter += 1\n",
    "\n",
    "    return X, y"
   ]
  },
  {
   "cell_type": "markdown",
   "metadata": {},
   "source": [
    "Load 100 images for each label as array."
   ]
  },
  {
   "cell_type": "code",
   "execution_count": null,
   "metadata": {},
   "outputs": [],
   "source": [
    "images_arr, labels_arr = load_images_as_arrays(\n",
    "    data_dir=train_dir, n_images_per_label=100\n",
    ")"
   ]
  },
  {
   "cell_type": "markdown",
   "metadata": {},
   "source": [
    "### Create helper function."
   ]
  },
  {
   "cell_type": "code",
   "execution_count": null,
   "metadata": {},
   "outputs": [],
   "source": [
    "def subset_label(label_to_display, X, y):\n",
    "    \"\"\"Return subset of X where y is label_to_display\"\"\"\n",
    "    y = y.reshape(-1, 1, 1)\n",
    "    boolean_mask = np.any(y == label_to_display, axis=1).reshape(-1)\n",
    "    return X[boolean_mask]"
   ]
  },
  {
   "cell_type": "markdown",
   "metadata": {},
   "source": [
    "---"
   ]
  },
  {
   "cell_type": "markdown",
   "metadata": {},
   "source": [
    "## Image averages and variability"
   ]
  },
  {
   "cell_type": "markdown",
   "metadata": {},
   "source": [
    "Create a function to plot the deviation of each set of images."
   ]
  },
  {
   "cell_type": "code",
   "execution_count": null,
   "metadata": {},
   "outputs": [],
   "source": [
    "# Function taken from CI walktrough.\n",
    "\n",
    "def plot_mean_variability_per_labels(X, y, figsize=(12, 5), save_image=False):\n",
    "    \"\"\"\n",
    "    The pseudo-code for the function is:\n",
    "    * Loop over all labels\n",
    "    * Subset an array for a given label\n",
    "    * Calculate the mean and standard deviation\n",
    "    * Create a figure displaying the mean and variability of images\n",
    "    * Save the image\n",
    "    \"\"\"\n",
    "\n",
    "    for label_to_display in np.unique(y):\n",
    "        sns.set_style(\"white\")\n",
    "\n",
    "        arr = subset_label(label_to_display, X, y)\n",
    "\n",
    "        avg_img = np.mean(arr, axis=0)\n",
    "        std_img = np.std(arr, axis=0)\n",
    "        print(f\"==== Label {label_to_display} ====\")\n",
    "\n",
    "        fig, axes = plt.subplots(nrows=1, ncols=2, figsize=figsize)\n",
    "        axes[0].set_title(f'Average image for label \"{label_to_display}\"')\n",
    "        axes[0].imshow(avg_img, cmap=\"gray\")\n",
    "        axes[1].set_title(f'Variability image for label \"{label_to_display}\"')\n",
    "        axes[1].imshow(std_img, cmap=\"gray\")\n",
    "\n",
    "        if save_image:\n",
    "            plt.savefig(\n",
    "                f\"{file_path}/avg_var_{label_to_display}.png\",\n",
    "                bbox_inches=\"tight\",\n",
    "                dpi=150,\n",
    "            )\n",
    "        else:\n",
    "            plt.tight_layout()\n",
    "            plt.show()\n",
    "            print(\"\\n\")"
   ]
  },
  {
   "cell_type": "markdown",
   "metadata": {},
   "source": [
    "plot the means and standard deviations of the images set for the loaded images above."
   ]
  },
  {
   "cell_type": "code",
   "execution_count": null,
   "metadata": {},
   "outputs": [],
   "source": [
    "plot_mean_variability_per_labels(X=images_arr, y=labels_arr, figsize=(12, 5))"
   ]
  },
  {
   "cell_type": "markdown",
   "metadata": {},
   "source": [
    "After checking that the images is good, save it to the outputs folder."
   ]
  },
  {
   "cell_type": "code",
   "execution_count": null,
   "metadata": {},
   "outputs": [],
   "source": [
    "plot_mean_variability_per_labels(X=images_arr, y=labels_arr, figsize=(12, 5), save_image=True)"
   ]
  },
  {
   "cell_type": "markdown",
   "metadata": {},
   "source": [
    "### Plot difference between average images"
   ]
  },
  {
   "cell_type": "code",
   "execution_count": null,
   "metadata": {},
   "outputs": [],
   "source": [
    "# Function is from CI walktrough proejct.\n",
    "\n",
    "def diff_bet_avg_image_labels_data_as_array(\n",
    "    X, y, label_1, label_2, figsize=(20, 5), save_image=False\n",
    "):\n",
    "    \"\"\"\n",
    "    Checks if the labels exist in the set of unique labels\n",
    "    Calculates the mean and difference for label1 and label2\n",
    "    Plots a chart and saves it if save_image=True\n",
    "    \"\"\"\n",
    "    sns.set_style(\"white\")\n",
    "\n",
    "    if (label_1 not in np.unique(y)) or (label_2 not in np.unique(y)):\n",
    "        print(f\"Either label {label} or label {label_2}, are not in {np.unique(y)} \")\n",
    "        return\n",
    "\n",
    "    # calculate mean from label1\n",
    "    images_label1 = subset_label(label_1, X, y)\n",
    "    label1_avg = np.mean(images_label1, axis=0)\n",
    "\n",
    "    # calculate mean from label2\n",
    "    images_label2 = subset_label(label_2, X, y)\n",
    "    label2_avg = np.mean(images_label2, axis=0)\n",
    "\n",
    "    # calculate difference and plot difference, avg label1 and avg label2\n",
    "    difference_mean = label1_avg - label2_avg\n",
    "    fig, axes = plt.subplots(nrows=1, ncols=3, figsize=figsize)\n",
    "    axes[0].imshow(label1_avg, cmap=\"gray\")\n",
    "    axes[0].set_title(f\"Average {label_1}\")\n",
    "    axes[1].imshow(label2_avg, cmap=\"gray\")\n",
    "    axes[1].set_title(f\"Average {label_2}\")\n",
    "    axes[2].imshow(difference_mean, cmap=\"gray\")\n",
    "    axes[2].set_title(f\"Difference image: Avg {label_1} & {label_2}\")\n",
    "    if save_image:\n",
    "        plt.savefig(f\"{file_path}/avg_diff.png\", bbox_inches=\"tight\", dpi=150)\n",
    "    else:\n",
    "        plt.tight_layout()\n",
    "        plt.show()"
   ]
  },
  {
   "cell_type": "markdown",
   "metadata": {},
   "source": [
    "Plot the different between powdery mildew average and healthy avarage."
   ]
  },
  {
   "cell_type": "code",
   "execution_count": null,
   "metadata": {},
   "outputs": [],
   "source": [
    "difference = diff_bet_avg_image_labels_data_as_array(\n",
    "    X=images_arr,\n",
    "    y=labels_arr,\n",
    "    label_1=\"powdery_mildew\",\n",
    "    label_2=\"healthy\",\n",
    "    figsize=(12, 10),\n",
    ")"
   ]
  },
  {
   "cell_type": "markdown",
   "metadata": {},
   "source": [
    "plot the different from the otherway."
   ]
  },
  {
   "cell_type": "code",
   "execution_count": null,
   "metadata": {},
   "outputs": [],
   "source": [
    "difference = diff_bet_avg_image_labels_data_as_array(\n",
    "    X=images_arr,\n",
    "    y=labels_arr,\n",
    "    label_1=\"healthy\",\n",
    "    label_2=\"powdery_mildew\",\n",
    "    figsize=(12, 10),\n",
    ")"
   ]
  },
  {
   "cell_type": "markdown",
   "metadata": {},
   "source": [
    "A small difference can be seen of the leaves, Thats way this plit will be saved."
   ]
  },
  {
   "cell_type": "code",
   "execution_count": null,
   "metadata": {},
   "outputs": [],
   "source": [
    "difference = diff_bet_avg_image_labels_data_as_array(\n",
    "    X=images_arr,\n",
    "    y=labels_arr,\n",
    "    label_1=\"healthy\",\n",
    "    label_2=\"powdery_mildew\",\n",
    "    figsize=(12, 10),\n",
    "    save_image=True\n",
    ")"
   ]
  },
  {
   "cell_type": "markdown",
   "metadata": {},
   "source": [
    "---\n"
   ]
  },
  {
   "cell_type": "markdown",
   "metadata": {},
   "source": [
    "### Investigate variability within each images.\n",
    "\n",
    "Leaves with powdery mildew have white spots on their surface. And will have a greater variability with the pixels, here we will investigate that."
   ]
  },
  {
   "cell_type": "markdown",
   "metadata": {},
   "source": [
    "#### Variability in grayscale-converted images.\n",
    "Convert images to grayscale."
   ]
  },
  {
   "cell_type": "code",
   "execution_count": null,
   "metadata": {},
   "outputs": [],
   "source": [
    "images_arr.shape  # check initial shape"
   ]
  },
  {
   "cell_type": "code",
   "execution_count": null,
   "metadata": {},
   "outputs": [],
   "source": [
    "images_gray_list = []\n",
    "for img in images_arr:\n",
    "    images_gray_list.append(np.dot(img[..., :], [0.2125, 0.7154, 0.0721]))\n",
    "\n",
    "images_gray_arr = np.array(images_gray_list)\n",
    "images_gray_arr.shape  # check new shape - (200, 256, 256)"
   ]
  },
  {
   "cell_type": "code",
   "execution_count": null,
   "metadata": {},
   "outputs": [],
   "source": [
    "plt.imshow(images_gray_arr[0], cmap=\"gray\")\n",
    "plt.show()"
   ]
  },
  {
   "cell_type": "markdown",
   "metadata": {},
   "source": [
    "For each label, display the disttribution of variability."
   ]
  },
  {
   "cell_type": "code",
   "execution_count": null,
   "metadata": {},
   "outputs": [],
   "source": [
    "def plot_image_pixel_distribution_per_label(X, y, figsize=(12, 5), save_image=False):\n",
    "    \"\"\"\n",
    "    Function pseudo-logic:\n",
    "    - subset the images from each label\n",
    "    - flatten each image to get an array of all pixels (3d -> 2d arr)\n",
    "    - calculate the standard deviation of the pixels in each image (2d -> 1d arr)\n",
    "    - output the average standard deviation of all images\n",
    "    - display boxplot and histogram of the standard deviations\n",
    "    \"\"\"\n",
    "    for label_to_display in np.unique(y):\n",
    "        sns.set_style(\"white\")\n",
    "\n",
    "        arr = subset_label(label_to_display, X, y)\n",
    "\n",
    "        arr = arr.reshape(arr.shape[0], -1)\n",
    "\n",
    "        std_arr = np.std(arr, axis=1)\n",
    "\n",
    "        print(f\"==== Label {label_to_display} ====\")\n",
    "\n",
    "        print(\"std_arr shape:\", std_arr.shape)\n",
    "        print(\"Average variability:\", np.mean(std_arr))\n",
    "\n",
    "        fig, (ax_box, ax_hist) = plt.subplots(\n",
    "            2, sharex=True, gridspec_kw={\"height_ratios\": (0.15, 0.85)}\n",
    "        )\n",
    "\n",
    "        sns.boxplot(x=std_arr, ax=ax_box)\n",
    "        sns.histplot(x=std_arr, kde=True, ax=ax_hist)\n",
    "\n",
    "        if save_image:\n",
    "            plt.savefig(\n",
    "                f\"{file_path}/grayscale_pixel_variability_{label_to_display}.png\",\n",
    "                bbox_inches=\"tight\",\n",
    "                dpi=150,\n",
    "            )\n",
    "        else:\n",
    "            plt.tight_layout()\n",
    "            plt.show()"
   ]
  },
  {
   "cell_type": "code",
   "execution_count": null,
   "metadata": {},
   "outputs": [],
   "source": [
    "plot_image_pixel_distribution_per_label(images_gray_arr, labels_arr)"
   ]
  },
  {
   "cell_type": "markdown",
   "metadata": {},
   "source": [
    "### __Conclusion:__\n",
    "* The healthy leaf images have a slightly higher variability in their pixel values than the powdery mildew leaves.\n",
    "* The analysis will be repeated on the original sample of images before color conversion, and the variability distribution within each color channel will be investigated."
   ]
  },
  {
   "cell_type": "markdown",
   "metadata": {},
   "source": [
    "### Variability per RBG"
   ]
  },
  {
   "cell_type": "code",
   "execution_count": null,
   "metadata": {},
   "outputs": [],
   "source": [
    "def plot_image_pixel_distribution_per_rgb_per_label(X, y, figsize=(12, 5), save_image=False, save_name=\"rgb_pixel_var\"):\n",
    "    for label_to_display in np.unique(y):\n",
    "        sns.set_style(\"white\")\n",
    "\n",
    "        arr = subset_label(label_to_display, X, y)\n",
    "\n",
    "        arr = arr.reshape(arr.shape[0], -1, arr.shape[3])\n",
    "\n",
    "        std_arr = np.std(arr, axis=1)\n",
    "\n",
    "        print(f\"==== Label {label_to_display} ====\")\n",
    "\n",
    "        print(\"std_arr shape\", std_arr.shape)  \n",
    "        \n",
    "        print(\"Red avg std:\", np.mean(std_arr[:, 0]))\n",
    "        print(\"Green avg std:\", np.mean(std_arr[:, 1]))\n",
    "        print(\"Blue avg std:\", np.mean(std_arr[:, 2]))\n",
    "\n",
    "        sns.histplot(std_arr, kde=True, palette=[\"red\", \"green\", \"blue\"], legend=False)\n",
    "        plt.title(f\"Pixel variability distributions for label {label_to_display}\")\n",
    "        plt.xlabel(\"Variability of pixel values per RGB channel per image\")\n",
    "\n",
    "        if save_image:\n",
    "            plt.savefig(\n",
    "                f\"{file_path}/{save_name}_{label_to_display}.png\",\n",
    "                bbox_inches=\"tight\",\n",
    "                dpi=150,\n",
    "            )\n",
    "            plt.clf()\n",
    "        else:\n",
    "            plt.tight_layout()\n",
    "            plt.show()"
   ]
  },
  {
   "cell_type": "code",
   "execution_count": null,
   "metadata": {},
   "outputs": [],
   "source": [
    "plot_image_pixel_distribution_per_rgb_per_label(images_arr, labels_arr)"
   ]
  },
  {
   "cell_type": "code",
   "execution_count": null,
   "metadata": {},
   "outputs": [],
   "source": [
    "def create_table_image_pixel_distribution_per_rgb_per_label(X, y):\n",
    "    rgb_variability_df = pd.DataFrame(index=[\"red\", \"green\", \"blue\"])\n",
    "\n",
    "    for label_to_display in np.unique(y):\n",
    "        arr = subset_label(label_to_display, X, y)\n",
    "\n",
    "        # flatten each image array\n",
    "        arr = arr.reshape(arr.shape[0], -1, arr.shape[3])\n",
    "\n",
    "        std_arr = np.std(arr, axis=1)\n",
    "\n",
    "        rgb_stds = []\n",
    "\n",
    "        for i in range(3):\n",
    "            rgb_stds.append(np.mean(std_arr[:, i]))\n",
    "        \n",
    "        rgb_variability_df[label_to_display] = rgb_stds\n",
    "    \n",
    "    return rgb_variability_df"
   ]
  },
  {
   "cell_type": "code",
   "execution_count": null,
   "metadata": {},
   "outputs": [],
   "source": [
    "rgb_variability_df = create_table_image_pixel_distribution_per_rgb_per_label(images_arr, labels_arr)\n",
    "rgb_variability_df"
   ]
  },
  {
   "cell_type": "markdown",
   "metadata": {},
   "source": [
    "Saves plot and values."
   ]
  },
  {
   "cell_type": "code",
   "execution_count": null,
   "metadata": {},
   "outputs": [],
   "source": [
    "plot_image_pixel_distribution_per_rgb_per_label(images_arr, labels_arr, save_image=True)"
   ]
  },
  {
   "cell_type": "code",
   "execution_count": null,
   "metadata": {},
   "outputs": [],
   "source": [
    "joblib.dump(value=rgb_variability_df, filename=f\"{file_path}/rgb_pixel_var_avgs.pkl\")"
   ]
  },
  {
   "cell_type": "markdown",
   "metadata": {},
   "source": [
    "### Variability in every images."
   ]
  },
  {
   "cell_type": "code",
   "execution_count": null,
   "metadata": {},
   "outputs": [],
   "source": [
    "images_arr.shape"
   ]
  },
  {
   "cell_type": "code",
   "execution_count": null,
   "metadata": {},
   "outputs": [],
   "source": [
    "images_centeral_third_arr = images_arr[:, 88:166, 88:168, :]\n",
    "images_centeral_third_arr.shape"
   ]
  },
  {
   "cell_type": "code",
   "execution_count": null,
   "metadata": {},
   "outputs": [],
   "source": [
    "plot_image_pixel_distribution_per_rgb_per_label(images_centeral_third_arr, labels_arr)"
   ]
  },
  {
   "cell_type": "code",
   "execution_count": null,
   "metadata": {},
   "outputs": [],
   "source": [
    "rgb_variability_df = create_table_image_pixel_distribution_per_rgb_per_label(images_centeral_third_arr, labels_arr, save_image=True, save_name:\"rgb_pixel_var_center\" )"
   ]
  },
  {
   "cell_type": "code",
   "execution_count": null,
   "metadata": {},
   "outputs": [],
   "source": [
    "joblib.dump(value=rgb_variability_df, filename=f\"{file_path}/rbg_pixel_var_avgs_center.pk1\")"
   ]
  },
  {
   "cell_type": "markdown",
   "metadata": {},
   "source": [
    "---\n"
   ]
  },
  {
   "cell_type": "markdown",
   "metadata": {},
   "source": [
    "## Conclusions and next step"
   ]
  }
 ],
 "metadata": {
  "language_info": {
   "name": "python"
  }
 },
 "nbformat": 4,
 "nbformat_minor": 2
}
